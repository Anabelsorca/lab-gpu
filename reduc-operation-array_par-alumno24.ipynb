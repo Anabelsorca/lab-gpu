{
 "cells": [
  {
   "cell_type": "markdown",
   "id": "f942d288-be01-42cd-9b84-83529c6769be",
   "metadata": {},
   "source": [
    "## Reduction operation: the sum of the numbers in the range [0, value)"
   ]
  },
  {
   "cell_type": "code",
   "execution_count": 1,
   "id": "496946fa-2a28-4c1d-8a6a-2ee0b8fd8ced",
   "metadata": {},
   "outputs": [
    {
     "name": "stdout",
     "output_type": "stream",
     "text": [
      "Time taken by reduction operation using a function: 2.62 ms ± 8.27 µs per loop (mean ± std. dev. of 2 runs, 100 loops each)\n",
      "And the result of the sum of numbers in the range [0, value) is: 24995.051343753086\n",
      "\n",
      "Time taken by reduction operation using numpy.sum(): 7.88 µs ± 8.1 ns per loop (mean ± std. dev. of 2 runs, 100,000 loops each)\n",
      "Now, the result using numpy.sum(): 24995.051343752984 \n",
      " \n",
      "Time taken by reduction operation using numpy.ndarray.sum(): 7.14 µs ± 0.478 ns per loop (mean ± std. dev. of 2 runs, 100,000 loops each)\n",
      "Now, the result using numpy.ndarray.sum(): 24995.051343752984\n"
     ]
    }
   ],
   "source": [
    "import numpy as np\n",
    "\n",
    "def reduc_operation(A):\n",
    "    \"\"\"Compute the sum of the elements of Array A in the range [0, value).\"\"\"\n",
    "    s = 0\n",
    "    for i in range(A.size):\n",
    "        s += A[i]\n",
    "    return s\n",
    "\n",
    "# Secuencial\n",
    "\n",
    "value = 5*10**4\n",
    "\n",
    "X = np.random.rand(value)\n",
    "\n",
    "# Para imprimir los pimeros valores del array\n",
    "\n",
    "# print(X[0:12])\n",
    "\n",
    "# Utilizando las operaciones mágicas de ipython\n",
    "\n",
    "tiempo = %timeit -r 2 -o -q reduc_operation(X)\n",
    "\n",
    "print(\"Time taken by reduction operation using a function:\", tiempo)\n",
    "\n",
    "\n",
    "print(f\"And the result of the sum of numbers in the range [0, value) is: {reduc_operation(X)}\\n\")\n",
    "\n",
    "\n",
    "# Utilizando numpy.sum()\n",
    "\n",
    "tiempo = %timeit -r 2 -o -q np.sum(X)\n",
    "\n",
    "print(\"Time taken by reduction operation using numpy.sum():\", tiempo)\n",
    "\n",
    "print(\"Now, the result using numpy.sum():\", np.sum(X),\"\\n \")\n",
    "\n",
    "\n",
    "# Utilizando numpy.ndarray.sum()\n",
    "\n",
    "tiempo= %timeit -r 2 -o -q X.sum()\n",
    "\n",
    "print(\"Time taken by reduction operation using numpy.ndarray.sum():\", tiempo)\n",
    "\n",
    "Time taken by reduction operation using a function: 2.62 ms ± 8.27 µs per loop (mean ± std. dev. of 2 runs, 100 loops each)\n",
    "And the result of the sum of numbers in the range [0, value) is: 24995.051343753086\n",
    "\n",
    "Time taken by reduction operation using numpy.sum(): 7.88 µs ± 8.1 ns per loop (mean ± std. dev. of 2 runs, 100,000 loops each)\n",
    "Now, the result using numpy.sum(): 24995.051343752984 \n",
    " \n",
    "Time taken by reduction operation using numpy.ndarray.sum(): 7.14 µs ± 0.478 ns per loop (mean ± std. dev. of 2 runs, 100,000 loops each)\n",
    "Now, the result using numpy.ndarray.sum(): 24995.051343752984print(\"Now, the result using numpy.ndarray.sum():\", X.sum())\n",
    "\n",
    "\n"
   ]
  },
  {
   "cell_type": "code",
   "execution_count": 2,
   "id": "dcd37f75-77fe-447e-ba8f-e12e4e2ad5f2",
   "metadata": {},
   "outputs": [],
   "source": [
    "import numpy as np\n",
    "\n",
    "def reduc_operation(A):\n",
    "    \"\"\"Compute the sum of the elements of Array A in the range [0, value).\"\"\"\n",
    "    s = 0\n",
    "    for i in range(A.size):\n",
    "        s += A[i]\n",
    "    return s\n",
    "\n",
    "value = 5*10**7\n",
    "X = np.random.rand(value).astype(np.float32)\n"
   ]
  },
  {
   "cell_type": "code",
   "execution_count": 3,
   "id": "9799e01c-1144-4b63-883b-1b6036634f5a",
   "metadata": {},
   "outputs": [
    {
     "name": "stdout",
     "output_type": "stream",
     "text": [
      "reduc_operation:\n",
      "Resultado: 25001724.94909561\n",
      "Tiempo: 70.57475852966309 segundos\n",
      "\n",
      "np.sum:\n",
      "Resultado: 25001724.0\n",
      "Tiempo: 0.05396842956542969 segundos\n",
      "\n",
      "ndarray.sum:\n",
      "Resultado: 25001724.0\n",
      "Tiempo: 0.05024003982543945 segundos\n",
      "\n"
     ]
    }
   ],
   "source": [
    "import time\n",
    "\n",
    "# Función personalizada\n",
    "start = time.time()\n",
    "res1 = reduc_operation(X)\n",
    "end = time.time()\n",
    "print(\"reduc_operation:\")\n",
    "print(\"Resultado:\", res1)\n",
    "print(\"Tiempo:\", end - start, \"segundos\\n\")\n",
    "\n",
    "# numpy.sum\n",
    "start = time.time()\n",
    "res2 = np.sum(X)\n",
    "end = time.time()\n",
    "print(\"np.sum:\")\n",
    "print(\"Resultado:\", res2)\n",
    "print(\"Tiempo:\", end - start, \"segundos\\n\")\n",
    "\n",
    "# ndarray.sum()\n",
    "start = time.time()\n",
    "res3 = X.sum()\n",
    "end = time.time()\n",
    "print(\"ndarray.sum:\")\n",
    "print(\"Resultado:\", res3)\n",
    "print(\"Tiempo:\", end - start, \"segundos\\n\")\n"
   ]
  },
  {
   "cell_type": "code",
   "execution_count": 4,
   "id": "52365652-d523-4f63-8a78-5545b1fd777d",
   "metadata": {},
   "outputs": [
    {
     "name": "stdout",
     "output_type": "stream",
     "text": [
      "1 procesos - Resultado: 25001724.95 - Tiempo: 73.2600 s\n",
      "2 procesos - Resultado: 25001724.95 - Tiempo: 38.3858 s\n",
      "4 procesos - Resultado: 25001724.95 - Tiempo: 19.4035 s\n"
     ]
    }
   ],
   "source": [
    "# a) Paralelismo con multiprocessing\n",
    "\n",
    "from multiprocessing import Pool\n",
    "\n",
    "def split_array(arr, n_chunks):\n",
    "    length = len(arr)\n",
    "    return [arr[i*length//n_chunks:(i+1)*length//n_chunks] for i in range(n_chunks)]\n",
    "\n",
    "def parallel_sum(n_procs):\n",
    "    chunks = split_array(X, n_procs)\n",
    "    with Pool(n_procs) as p:\n",
    "        results = p.map(reduc_operation, chunks)\n",
    "    return sum(results)\n",
    "\n",
    "for n in [1, 2, 4]:\n",
    "    start = time.time()\n",
    "    result = parallel_sum(n)\n",
    "    end = time.time()\n",
    "    print(f\"{n} procesos - Resultado: {result:.2f} - Tiempo: {end - start:.4f} s\")\n"
   ]
  },
  {
   "cell_type": "code",
   "execution_count": 5,
   "id": "45a4be4f-8cdd-459b-87dc-b429549caa89",
   "metadata": {},
   "outputs": [],
   "source": [
    "# b) Optimización con Numba\n",
    "\n",
    "from numba import njit, prange\n",
    "\n",
    "@njit\n",
    "def reduc_operation_njit(A):\n",
    "    s = 0.0\n",
    "    for i in range(len(A)):\n",
    "        s += A[i]\n",
    "    return s\n",
    "\n",
    "@njit(parallel=True)\n",
    "def reduc_operation_parallel(A):\n",
    "    s = 0.0\n",
    "    for i in prange(len(A)):\n",
    "        s += A[i]\n",
    "    return s\n"
   ]
  },
  {
   "cell_type": "code",
   "execution_count": 6,
   "id": "8e0f97ad-26c1-4c97-a001-a9abf09d25a4",
   "metadata": {},
   "outputs": [
    {
     "name": "stdout",
     "output_type": "stream",
     "text": [
      "Numba njit - Resultado: 25001724.94909561\n",
      "Tiempo: 4.049393653869629 segundos\n",
      "\n",
      "Numba parallel=True - Resultado: 25001724.949094407\n",
      "Tiempo: 3.2074410915374756 segundos\n",
      "\n"
     ]
    }
   ],
   "source": [
    "start = time.time()\n",
    "res_njit = reduc_operation_njit(X)\n",
    "end = time.time()\n",
    "print(\"Numba njit - Resultado:\", res_njit)\n",
    "print(\"Tiempo:\", end - start, \"segundos\\n\")\n",
    "\n",
    "start = time.time()\n",
    "res_par = reduc_operation_parallel(X)\n",
    "end = time.time()\n",
    "print(\"Numba parallel=True - Resultado:\", res_par)\n",
    "print(\"Tiempo:\", end - start, \"segundos\\n\")"
   ]
  },
  {
   "cell_type": "code",
   "execution_count": 9,
   "id": "ede3789f-05a6-45f8-8be5-728c0629a909",
   "metadata": {},
   "outputs": [
    {
     "name": "stdout",
     "output_type": "stream",
     "text": [
      "Tamaño del array: 50000000\n"
     ]
    }
   ],
   "source": [
    "# c) Variable value desde línea de comandos\n",
    "\n",
    "import sys\n",
    "\n",
    "# Buscar primer argumento que sea un número entero válido\n",
    "def get_value_from_args(default=5 * 10**7):\n",
    "    for arg in sys.argv:\n",
    "        try:\n",
    "            return int(arg)\n",
    "        except ValueError:\n",
    "            continue\n",
    "    return default\n",
    "\n",
    "value = get_value_from_args()\n",
    "print(f\"Tamaño del array: {value}\")\n",
    "X = np.random.rand(value).astype(np.float32)"
   ]
  },
  {
   "cell_type": "markdown",
   "id": "c43eda4d-26eb-4575-8254-ec4ac9927e49",
   "metadata": {},
   "source": [
    "## Análisis de rendimiento\n",
    "Los resultados muestran una mejora progresiva en el tiempo de ejecución al aplicar distintas técnicas de paralelismo y optimización:\n",
    "-\tFunción original reduc_operation: muy lenta (≈70 s), sirve como referencia de base secuencial.\n",
    "-\tnumpy.sum() y ndarray.sum(): extremadamente rápidos (≈0.05 s) gracias a estar implementados en C altamente optimizado.\n",
    "-\tmultiprocessing: al duplicar el número de procesos, el tiempo se reduce casi a la mitad, lo que muestra un paralelismo efectivo.\n",
    "-\tNumba: \n",
    "         · @njit: reduce el tiempo a ≈4 s solo por compilar la función.\n",
    "         · @njit(parallel=True): lo reduce aún más a ≈3.2 s usando múltiples hilos internamente."
   ]
  },
  {
   "cell_type": "code",
   "execution_count": null,
   "id": "5569727e-d281-4b00-91fc-e16a6105ee97",
   "metadata": {},
   "outputs": [],
   "source": []
  }
 ],
 "metadata": {
  "kernelspec": {
   "display_name": "Python 3 (ipykernel)",
   "language": "python",
   "name": "python3"
  },
  "language_info": {
   "codemirror_mode": {
    "name": "ipython",
    "version": 3
   },
   "file_extension": ".py",
   "mimetype": "text/x-python",
   "name": "python",
   "nbconvert_exporter": "python",
   "pygments_lexer": "ipython3",
   "version": "3.10.9"
  }
 },
 "nbformat": 4,
 "nbformat_minor": 5
}
